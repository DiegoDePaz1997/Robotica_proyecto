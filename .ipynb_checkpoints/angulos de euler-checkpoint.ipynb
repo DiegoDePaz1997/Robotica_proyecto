{
 "cells": [
  {
   "cell_type": "code",
   "execution_count": 9,
   "id": "c4c88177-addc-4a66-92a2-d02a0daee8b4",
   "metadata": {},
   "outputs": [],
   "source": [
    "from defs_robotica import *\n",
    "import numpy as np"
   ]
  },
  {
   "cell_type": "markdown",
   "id": "5d41ff19-e787-4f5d-9b84-7ce1ff863a63",
   "metadata": {
    "tags": []
   },
   "source": [
    "#### Matriz R dados 3 ángulos (phi theta psi)"
   ]
  },
  {
   "cell_type": "code",
   "execution_count": 16,
   "id": "4ce3552b-8639-4381-8d80-421425287ec4",
   "metadata": {},
   "outputs": [
    {
     "name": "stdout",
     "output_type": "stream",
     "text": [
      "angulos 0, 20, 60\n",
      "  \n",
      "Matriz resultante\n",
      "[[ 0.46984631 -0.81379768  0.34202014]\n",
      " [ 0.8660254   0.5         0.        ]\n",
      " [-0.17101007  0.29619813  0.93969262]]\n"
     ]
    }
   ],
   "source": [
    "radianes_o_grados('grados')\n",
    "phi = 0\n",
    "theta = 20\n",
    "psi = 60   \n",
    "#-------------------------------------\n",
    "R = Rz(phi)@Ry(theta)@Rz(psi)\n",
    "#-------------------------------------\n",
    "print(f'angulos {phi}, {theta}, {psi}')\n",
    "print('  ')\n",
    "print('Matriz resultante')\n",
    "R[abs(R)<10**(-6)] = 0\n",
    "print(R)"
   ]
  },
  {
   "cell_type": "markdown",
   "id": "5ec5ee2f-0115-4f95-8476-ae0c77bb3ede",
   "metadata": {},
   "source": [
    "#\n",
    "#### Ángulos dada una matriz R -> RzRyRz"
   ]
  },
  {
   "cell_type": "code",
   "execution_count": 23,
   "id": "47b1ad72-8aa4-4a5e-8636-aa21122aa66d",
   "metadata": {},
   "outputs": [
    {
     "name": "stdout",
     "output_type": "stream",
     "text": [
      "angulos predichos\n",
      "[ 0. 20. 60.]\n",
      "[-180.  -20. -120.]\n",
      " \n",
      "diferencia entre las dos soluciones\n"
     ]
    },
    {
     "data": {
      "text/plain": [
       "array([[ 0.00000000e+00,  1.11022302e-16,  0.00000000e+00],\n",
       "       [-1.11022302e-16,  0.00000000e+00, -4.18853874e-17],\n",
       "       [ 5.55111512e-17,  0.00000000e+00,  0.00000000e+00]])"
      ]
     },
     "execution_count": 23,
     "metadata": {},
     "output_type": "execute_result"
    }
   ],
   "source": [
    "print('angulos predichos')\n",
    "radianes_o_grados('grados')\n",
    "\n",
    "#-------------------------------------\n",
    "matriz = [[], [], []]  #esta va en vez de R\n",
    "A = angulos(R) # <= matriz\n",
    "#-------------------------------------\n",
    "\n",
    "print(np.degrees(A[0]))# sol 1 en grados\n",
    "print(np.degrees(A[1]))# sol 2\n",
    "print(' ')\n",
    "\n",
    "print('diferencia entre las dos soluciones')\n",
    "radianes_o_grados('radianes') #porque devuelve la solucion en radianes\n",
    "R_ZYZ(A[0]) - R_ZYZ(A[1])"
   ]
  },
  {
   "cell_type": "code",
   "execution_count": null,
   "id": "7e5dc28a-aa97-438b-bc29-ed396730c79f",
   "metadata": {},
   "outputs": [],
   "source": []
  },
  {
   "cell_type": "markdown",
   "id": "082f8dbf-b185-4080-8673-e9249418ee2c",
   "metadata": {},
   "source": [
    "#\n",
    "#### Cambio de coordenadas ( p1 -> p0   o   p0 -> p1 )"
   ]
  },
  {
   "cell_type": "code",
   "execution_count": 25,
   "id": "1438c776-2a3d-42f1-b90a-277e75b2aa15",
   "metadata": {},
   "outputs": [
    {
     "name": "stdout",
     "output_type": "stream",
     "text": [
      "[-0.0019312  1.366025   1.0648807]\n",
      "[0.99999918 0.99999975 1.        ]\n"
     ]
    },
    {
     "data": {
      "text/plain": [
       "array([0.99999918, 0.99999975, 1.        ])"
      ]
     },
     "execution_count": 25,
     "metadata": {},
     "output_type": "execute_result"
    }
   ],
   "source": [
    "R_ = np.array([\n",
    " [ 0.4698463, -0.8137976,  0.3420201],\n",
    " [ 0.866025,   0.5,         0.        ],\n",
    " [-0.1710100,  0.2961981,  0.9396926]\n",
    "])\n",
    "\n",
    "punto1 = np.array([1, 1, 1])\n",
    "punto0 = np.array([])\n",
    "\n",
    "def p1_a_p0():\n",
    "    punto0 = R_@punto1\n",
    "    print(punto0)\n",
    "    return punto0\n",
    "\n",
    "def p0_a_p1():\n",
    "    punto1 = R_.transpose()@punto0\n",
    "    print(punto1)\n",
    "    return punto1\n",
    "\n",
    "punto0 =p1_a_p0()\n",
    "p0_a_p1()"
   ]
  },
  {
   "cell_type": "code",
   "execution_count": 14,
   "id": "9e4da281-7021-4404-8565-edf3bda9c5fd",
   "metadata": {
    "tags": []
   },
   "outputs": [
    {
     "name": "stdout",
     "output_type": "stream",
     "text": [
      "19.999999999999996\n",
      "[[ 1  4  2]\n",
      " [ 1 -6  2]\n",
      " [ 2  4  2]]\n"
     ]
    }
   ],
   "source": [
    "z = np.array([ \n",
    "       [1, 1, 2 ],\n",
    "       [4, -6, 4 ],\n",
    "       [2, 2, 2 ]] ) \n",
    "        \n",
    "print(np.linalg.det(z)) #determinante\n",
    "\n",
    "print(z.transpose()) #transpuesta "
   ]
  }
 ],
 "metadata": {
  "kernelspec": {
   "display_name": "Python 3 (ipykernel)",
   "language": "python",
   "name": "python3"
  },
  "language_info": {
   "codemirror_mode": {
    "name": "ipython",
    "version": 3
   },
   "file_extension": ".py",
   "mimetype": "text/x-python",
   "name": "python",
   "nbconvert_exporter": "python",
   "pygments_lexer": "ipython3",
   "version": "3.8.10"
  }
 },
 "nbformat": 4,
 "nbformat_minor": 5
}
