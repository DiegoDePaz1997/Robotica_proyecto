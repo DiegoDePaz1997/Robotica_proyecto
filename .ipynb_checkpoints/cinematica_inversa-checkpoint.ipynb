{
 "cells": [
  {
   "cell_type": "markdown",
   "id": "c432ad4e-c825-425d-99ab-35e07dedf54f",
   "metadata": {},
   "source": [
    "# Cinematica inversa DH"
   ]
  },
  {
   "cell_type": "code",
   "execution_count": null,
   "id": "8f8b7566-45c9-433e-9fc8-47f36e01fa84",
   "metadata": {},
   "outputs": [],
   "source": [
    "from defs_robotica import T_s, cin_inversa\n",
    "import numpy as np"
   ]
  }
 ],
 "metadata": {
  "kernelspec": {
   "display_name": "Python 3 (ipykernel)",
   "language": "python",
   "name": "python3"
  },
  "language_info": {
   "codemirror_mode": {
    "name": "ipython",
    "version": 3
   },
   "file_extension": ".py",
   "mimetype": "text/x-python",
   "name": "python",
   "nbconvert_exporter": "python",
   "pygments_lexer": "ipython3",
   "version": "3.8.10"
  }
 },
 "nbformat": 4,
 "nbformat_minor": 5
}
