{
 "cells": [
  {
   "cell_type": "markdown",
   "id": "85fe9b42-73ef-495d-bbda-c52fd743b258",
   "metadata": {},
   "source": [
    "#### calculo simbolico para caluclar las matrices\n",
    "#### RxRyRz o RyRxRz o .....una de las 12 posibles"
   ]
  },
  {
   "cell_type": "markdown",
   "id": "c2bdaa04-a1e8-49d5-807b-07ba9e95e942",
   "metadata": {},
   "source": [
    "simplify(sin(x)**2 + cos(x)**2)\n",
    "expand((x + 1)**2)\n",
    "trigsimp()  # simplifica funciones por equivalentes"
   ]
  },
  {
   "cell_type": "code",
   "execution_count": 1,
   "id": "5a03bfb3-642d-449e-af37-152bd0f657c3",
   "metadata": {},
   "outputs": [],
   "source": [
    "from sympy import *\n",
    "a, b, c = symbols('a b c')\n",
    "\n",
    "def Rx_(x):\n",
    "    m = Matrix([[1, 0, 0],\n",
    "                 [0, cos(x), -sin(x)],\n",
    "                 [0, sin(x),  cos(x)]])\n",
    "    return m\n",
    "def Ry_(x):\n",
    "    m = Matrix([[cos(x), 0, sin(x)],\n",
    "                 [0, 1, 0],\n",
    "                 [-sin(x), 0, cos(x)]])\n",
    "    return m\n",
    "\n",
    "def Rz_(x):     \n",
    "    m = Matrix([[cos(x), -sin(x), 0],\n",
    "                 [sin(x),   cos(x), 0],\n",
    "                 [0, 0, 1]])\n",
    "    return m"
   ]
  },
  {
   "cell_type": "code",
   "execution_count": 4,
   "id": "e721aa30-c08b-4db2-afdd-e755649201c2",
   "metadata": {},
   "outputs": [
    {
     "data": {
      "text/latex": [
       "$\\displaystyle \\left[\\begin{matrix}\\cos{\\left(b \\right)} \\cos{\\left(c \\right)} & - \\sin{\\left(c \\right)} \\cos{\\left(b \\right)} & \\sin{\\left(b \\right)}\\\\\\sin{\\left(a \\right)} \\sin{\\left(b \\right)} \\cos{\\left(c \\right)} + \\sin{\\left(c \\right)} \\cos{\\left(a \\right)} & - \\sin{\\left(a \\right)} \\sin{\\left(b \\right)} \\sin{\\left(c \\right)} + \\cos{\\left(a \\right)} \\cos{\\left(c \\right)} & - \\sin{\\left(a \\right)} \\cos{\\left(b \\right)}\\\\\\sin{\\left(a \\right)} \\sin{\\left(c \\right)} - \\sin{\\left(b \\right)} \\cos{\\left(a \\right)} \\cos{\\left(c \\right)} & \\sin{\\left(a \\right)} \\cos{\\left(c \\right)} + \\sin{\\left(b \\right)} \\sin{\\left(c \\right)} \\cos{\\left(a \\right)} & \\cos{\\left(a \\right)} \\cos{\\left(b \\right)}\\end{matrix}\\right]$"
      ],
      "text/plain": [
       "Matrix([\n",
       "[                       cos(b)*cos(c),                        -sin(c)*cos(b),         sin(b)],\n",
       "[sin(a)*sin(b)*cos(c) + sin(c)*cos(a), -sin(a)*sin(b)*sin(c) + cos(a)*cos(c), -sin(a)*cos(b)],\n",
       "[sin(a)*sin(c) - sin(b)*cos(a)*cos(c),  sin(a)*cos(c) + sin(b)*sin(c)*cos(a),  cos(a)*cos(b)]])"
      ]
     },
     "execution_count": 4,
     "metadata": {},
     "output_type": "execute_result"
    }
   ],
   "source": [
    "Rx_(a)*Ry_(b)*Rz_(c)"
   ]
  },
  {
   "cell_type": "code",
   "execution_count": null,
   "id": "685579c1-e5a0-4a01-afa5-937e4ed6ecb6",
   "metadata": {},
   "outputs": [],
   "source": []
  }
 ],
 "metadata": {
  "kernelspec": {
   "display_name": "Python 3 (ipykernel)",
   "language": "python",
   "name": "python3"
  },
  "language_info": {
   "codemirror_mode": {
    "name": "ipython",
    "version": 3
   },
   "file_extension": ".py",
   "mimetype": "text/x-python",
   "name": "python",
   "nbconvert_exporter": "python",
   "pygments_lexer": "ipython3",
   "version": "3.8.10"
  }
 },
 "nbformat": 4,
 "nbformat_minor": 5
}
