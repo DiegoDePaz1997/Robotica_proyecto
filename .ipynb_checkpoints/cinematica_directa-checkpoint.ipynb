{
 "cells": [
  {
   "cell_type": "markdown",
   "id": "04a39f26-d8b9-4eb2-91f7-9d7285c99506",
   "metadata": {},
   "source": [
    "# Cinematica directa DH"
   ]
  },
  {
   "cell_type": "markdown",
   "id": "c7e99496-f4dd-4e2d-a46e-fe5f372fe89a",
   "metadata": {},
   "source": [
    "#### Los algulos a ingresar deben de estar en radianes\n",
    "##### usar np.deg2rad()"
   ]
  },
  {
   "cell_type": "code",
   "execution_count": 1,
   "id": "81ffee0e-18e4-4b30-bc4c-25b0b322ac0f",
   "metadata": {},
   "outputs": [],
   "source": [
    "from defs_robotica import DH , T_s\n",
    "import numpy as np"
   ]
  },
  {
   "cell_type": "code",
   "execution_count": 4,
   "id": "7334964e-3b50-4d26-9d01-23bb86a32b36",
   "metadata": {},
   "outputs": [
    {
     "name": "stdout",
     "output_type": "stream",
     "text": [
      "[[[ 0.995  -0.      0.0998  0.    ]\n",
      "  [ 0.0998  0.     -0.995   0.    ]\n",
      "  [ 0.      1.      0.      2.    ]\n",
      "  [ 0.      0.      0.      1.    ]]\n",
      "\n",
      " [[ 0.9752 -0.1977  0.0998  0.9752]\n",
      "  [ 0.0978 -0.0198 -0.995   0.0978]\n",
      "  [ 0.1987  0.9801  0.      2.1987]\n",
      "  [ 0.      0.      0.      1.    ]]\n",
      "\n",
      " [[ 0.8732 -0.477   0.0998  1.8484]\n",
      "  [ 0.0876 -0.0479 -0.995   0.1855]\n",
      "  [ 0.4794  0.8776  0.      2.6781]\n",
      "  [ 0.      0.      0.      1.    ]]\n",
      "\n",
      " [[ 0.6185 -0.0998 -0.7794  1.8484]\n",
      "  [ 0.0621  0.995  -0.0782  0.1855]\n",
      "  [ 0.7833 -0.      0.6216  2.6781]\n",
      "  [ 0.      0.      0.      1.    ]]\n",
      "\n",
      " [[ 0.4949 -0.7794  0.3841  1.8484]\n",
      "  [ 0.5315 -0.0782 -0.8434  0.1855]\n",
      "  [ 0.6874  0.6216  0.3755  2.6781]\n",
      "  [ 0.      0.      0.      1.    ]]\n",
      "\n",
      " [[-0.0316 -0.3841 -0.9227  1.8868]\n",
      "  [ 0.3945  0.8434 -0.3646  0.1011]\n",
      "  [ 0.9184 -0.3755  0.1249  2.7156]\n",
      "  [ 0.      0.      0.      1.    ]]]\n"
     ]
    }
   ],
   "source": [
    "#T_s(b1, a2, a3, d6, ang)\n",
    "b1 = 2\n",
    "a2 = 1\n",
    "a3 = 1\n",
    "d6 = .1\n",
    "ang= (.1, .2, .3, .4, .5, .6)\n",
    "\n",
    "T_s(b1, a2, a3, d6, ang)\n"
   ]
  },
  {
   "cell_type": "code",
   "execution_count": null,
   "id": "c1de9df9-cf51-45e1-836d-ad2d4a54bf30",
   "metadata": {},
   "outputs": [],
   "source": []
  }
 ],
 "metadata": {
  "kernelspec": {
   "display_name": "Python 3 (ipykernel)",
   "language": "python",
   "name": "python3"
  },
  "language_info": {
   "codemirror_mode": {
    "name": "ipython",
    "version": 3
   },
   "file_extension": ".py",
   "mimetype": "text/x-python",
   "name": "python",
   "nbconvert_exporter": "python",
   "pygments_lexer": "ipython3",
   "version": "3.8.10"
  }
 },
 "nbformat": 4,
 "nbformat_minor": 5
}
