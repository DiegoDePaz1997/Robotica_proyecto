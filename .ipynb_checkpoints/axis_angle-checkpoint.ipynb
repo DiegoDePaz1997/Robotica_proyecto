{
 "cells": [
  {
   "cell_type": "markdown",
   "id": "cc55e801-18cd-4182-8b88-77caf62e7111",
   "metadata": {},
   "source": [
    "# Representación  de eje/ángulo"
   ]
  },
  {
   "cell_type": "code",
   "execution_count": 1,
   "id": "35459575-115c-4b3a-b595-8537ea09c574",
   "metadata": {},
   "outputs": [],
   "source": [
    "from defs_robotica import *\n",
    "import numpy as np"
   ]
  },
  {
   "cell_type": "markdown",
   "id": "5f2f8d8d-365b-413f-943a-d144c745105d",
   "metadata": {},
   "source": [
    "#### dado un vector k y un ángulo encontrar la matriz de rotación resultante"
   ]
  },
  {
   "cell_type": "code",
   "execution_count": 8,
   "id": "151c712f-bde9-45e2-8a7e-dd83cad3ee05",
   "metadata": {},
   "outputs": [
    {
     "name": "stdout",
     "output_type": "stream",
     "text": [
      "[[ 0.         -0.8660254   0.49999999]\n",
      " [ 0.49999999 -0.4330127  -0.75      ]\n",
      " [ 0.8660254   0.25        0.43301269]]\n"
     ]
    }
   ],
   "source": [
    "k = (0.57735027, -0.21132487, 0.78867513)\n",
    "phi = np.deg2rad(120)\n",
    "#-----------------------------------------\n",
    "matriZ = R_K_phi(k, phi)\n",
    "matriZ[abs(matriZ)<10**(-6)] = 0\n",
    "print(matriZ)"
   ]
  },
  {
   "cell_type": "markdown",
   "id": "170209e9-fb3d-4dd3-9798-ee273928e695",
   "metadata": {},
   "source": [
    "#\n",
    "#### dada una matriz encontrar phi y K"
   ]
  },
  {
   "cell_type": "code",
   "execution_count": 4,
   "id": "2e956f75-9a76-4e40-ba52-79fbe0181edf",
   "metadata": {},
   "outputs": [
    {
     "name": "stdout",
     "output_type": "stream",
     "text": [
      "k = kx, ky, kz\n",
      "[ 0.57735027 -0.21132487  0.78867513]\n",
      "119.99999999999999 grados\n"
     ]
    }
   ],
   "source": [
    "k, phi = K_phi_dada_R(R)\n",
    "#-----------------------------------------\n",
    "print('k = kx, ky, kz')\n",
    "print(k)\n",
    "print(f'{np.rad2deg(phi)} grados')"
   ]
  },
  {
   "cell_type": "markdown",
   "id": "d13a5cac-fc37-4232-8b47-574f410bbc95",
   "metadata": {},
   "source": [
    "#\n",
    "#### generacion de una matriz R1_0*Rz*R0_1"
   ]
  },
  {
   "cell_type": "code",
   "execution_count": 7,
   "id": "b25aedb7-64f8-4085-bf4d-4d95619ecc2d",
   "metadata": {},
   "outputs": [
    {
     "name": "stdout",
     "output_type": "stream",
     "text": [
      "[[ 0.        -0.8660254  0.5      ]\n",
      " [ 0.5       -0.4330127 -0.75     ]\n",
      " [ 0.8660254  0.25       0.4330127]]\n"
     ]
    }
   ],
   "source": [
    "arr = np.array([\n",
    "    [],\n",
    "    [], \n",
    "    []\n",
    "])\n",
    "\n",
    "\n",
    "radianes_o_grados('grados')\n",
    "R = Rx(60)@Ry(30)@Rz(90)\n",
    "R[abs(R)<10**(-6)] = 0\n",
    "print(R)\n"
   ]
  },
  {
   "cell_type": "code",
   "execution_count": null,
   "id": "f6056b13-22ec-46b6-b3e0-cf5e22683b07",
   "metadata": {},
   "outputs": [],
   "source": []
  }
 ],
 "metadata": {
  "kernelspec": {
   "display_name": "Python 3 (ipykernel)",
   "language": "python",
   "name": "python3"
  },
  "language_info": {
   "codemirror_mode": {
    "name": "ipython",
    "version": 3
   },
   "file_extension": ".py",
   "mimetype": "text/x-python",
   "name": "python",
   "nbconvert_exporter": "python",
   "pygments_lexer": "ipython3",
   "version": "3.8.10"
  }
 },
 "nbformat": 4,
 "nbformat_minor": 5
}
