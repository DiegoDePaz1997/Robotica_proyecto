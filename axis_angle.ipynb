{
 "cells": [
  {
   "cell_type": "markdown",
   "id": "cc55e801-18cd-4182-8b88-77caf62e7111",
   "metadata": {},
   "source": [
    "# Representación  de eje/ángulo"
   ]
  },
  {
   "cell_type": "code",
   "execution_count": 1,
   "id": "35459575-115c-4b3a-b595-8537ea09c574",
   "metadata": {},
   "outputs": [],
   "source": [
    "from defs_robotica import *\n",
    "import numpy as np"
   ]
  },
  {
   "cell_type": "markdown",
   "id": "5f2f8d8d-365b-413f-943a-d144c745105d",
   "metadata": {},
   "source": [
    "#### dado un vector k y un ángulo phi encontrar la matriz de rotación resultante"
   ]
  },
  {
   "cell_type": "code",
   "execution_count": 4,
   "id": "151c712f-bde9-45e2-8a7e-dd83cad3ee05",
   "metadata": {},
   "outputs": [
    {
     "name": "stdout",
     "output_type": "stream",
     "text": [
      "[[ 0.88095238  0.00149395  0.47320257]\n",
      " [ 0.37945843  0.5952381  -0.7083099 ]\n",
      " [-0.28272638  0.80354799  0.52380952]]\n"
     ]
    }
   ],
   "source": [
    "k = np.array([25,12.5,6.25])/(25**2 + 12.5**2 + 6.25**2)**.5\n",
    "\n",
    "radianes_o_grados('radianes')\n",
    "\n",
    "phi = np.pi/3\n",
    "#-----------------------------------------\n",
    "matriZ = R_K_phi(k, phi)\n",
    "matriZ[abs(matriZ)<10**(-6)] = 0\n",
    "print(matriZ)"
   ]
  },
  {
   "cell_type": "markdown",
   "id": "afb5f37d-096c-4db3-995e-15e8a61937d8",
   "metadata": {},
   "source": [
    "#"
   ]
  },
  {
   "cell_type": "markdown",
   "id": "39d16e6b-83bf-41e5-a8f3-f103874f1a4e",
   "metadata": {},
   "source": [
    "#### dados los ángulos alpha betha y phi encontrar R"
   ]
  },
  {
   "cell_type": "code",
   "execution_count": 3,
   "id": "50258a45-381f-4342-b20f-e65b3a131820",
   "metadata": {},
   "outputs": [
    {
     "name": "stdout",
     "output_type": "stream",
     "text": [
      "[[-0.12342156 -0.0354029   0.99172262  0.        ]\n",
      " [ 0.9471881   0.29386382  0.12836963  0.        ]\n",
      " [-0.29597606  0.95519144 -0.00273593  0.        ]\n",
      " [ 0.          0.          0.          1.        ]]\n"
     ]
    }
   ],
   "source": [
    "R_k = R_Alf_Bet(alpha=1, betha=1, phi=2)\n",
    "R_k[abs(R_k)<10**(-6)] = 0\n",
    "print(R_k)"
   ]
  },
  {
   "cell_type": "markdown",
   "id": "170209e9-fb3d-4dd3-9798-ee273928e695",
   "metadata": {},
   "source": [
    "#\n",
    "#### dada una matriz encontrar phi y K"
   ]
  },
  {
   "cell_type": "code",
   "execution_count": 21,
   "id": "2e956f75-9a76-4e40-ba52-79fbe0181edf",
   "metadata": {},
   "outputs": [
    {
     "name": "stdout",
     "output_type": "stream",
     "text": [
      "k = kx, ky, kz\n",
      "[0. 0. 0.]\n",
      "179.97780943987684 grados\n"
     ]
    }
   ],
   "source": [
    "k, phi = K_phi_dada_R(sss.transpose())\n",
    "#-----------------------------------------\n",
    "print('k = kx, ky, kz')\n",
    "print(k)\n",
    "print(f'{np.rad2deg(phi)} grados')"
   ]
  },
  {
   "cell_type": "markdown",
   "id": "d13a5cac-fc37-4232-8b47-574f410bbc95",
   "metadata": {},
   "source": [
    "#\n",
    "#### generacion de una matriz R1_0*Rz*R0_1"
   ]
  },
  {
   "cell_type": "code",
   "execution_count": 35,
   "id": "b25aedb7-64f8-4085-bf4d-4d95619ecc2d",
   "metadata": {},
   "outputs": [
    {
     "name": "stdout",
     "output_type": "stream",
     "text": [
      "[[-0.7109  0.4542  0.5368]\n",
      " [ 0.4542 -0.2861  0.8436]\n",
      " [ 0.5368  0.8436 -0.0029]]\n"
     ]
    }
   ],
   "source": [
    "sss = np.array([\n",
    "    [-0.710914, 0.454277, 0.536873, 0],\n",
    "    [0.454277, -0.286136, 0.843658, 0], \n",
    "    [0.536873, 0.843658, -0.00294985, 0],\n",
    "    [0, 0, 0, 1]\n",
    "])\n",
    "\n",
    "s = sss[:3,:3]\n",
    "print(s)\n",
    "\n",
    "radianes_o_grados('grados')\n",
    "R = Ry(90)@Rz(45)\n",
    "R[abs(R)<10**(-6)] = 0\n",
    "#print(R)\n"
   ]
  },
  {
   "cell_type": "code",
   "execution_count": 47,
   "id": "3a2953d4-2eea-41db-a94d-5fd86740c2be",
   "metadata": {},
   "outputs": [
    {
     "name": "stdout",
     "output_type": "stream",
     "text": [
      "angulo = 3.141205355252782 rad\n",
      "1290.9944730426964\n"
     ]
    }
   ],
   "source": [
    "a = np.arccos((np.trace(s) -1)/2)\n",
    "print(f'angulo = {a} rad')\n",
    "a = 1/(2*np.sin(a))\n",
    "print(a)"
   ]
  },
  {
   "cell_type": "code",
   "execution_count": 44,
   "id": "82bb806e-a335-49f0-93e1-15b59a0a2a79",
   "metadata": {},
   "outputs": [
    {
     "data": {
      "text/plain": [
       "-0.38938100000000003"
      ]
     },
     "execution_count": 44,
     "metadata": {},
     "output_type": "execute_result"
    }
   ],
   "source": [
    " 0.454277-0.843658"
   ]
  },
  {
   "cell_type": "code",
   "execution_count": null,
   "id": "5105536c-5311-4c88-bafe-d10478468a2d",
   "metadata": {},
   "outputs": [],
   "source": []
  }
 ],
 "metadata": {
  "kernelspec": {
   "display_name": "Python 3 (ipykernel)",
   "language": "python",
   "name": "python3"
  },
  "language_info": {
   "codemirror_mode": {
    "name": "ipython",
    "version": 3
   },
   "file_extension": ".py",
   "mimetype": "text/x-python",
   "name": "python",
   "nbconvert_exporter": "python",
   "pygments_lexer": "ipython3",
   "version": "3.8.10"
  }
 },
 "nbformat": 4,
 "nbformat_minor": 5
}
