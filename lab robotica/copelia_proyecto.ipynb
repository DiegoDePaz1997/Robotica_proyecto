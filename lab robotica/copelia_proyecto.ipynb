{
 "cells": [
  {
   "cell_type": "code",
   "execution_count": 5,
   "id": "2ff6e66b",
   "metadata": {},
   "outputs": [],
   "source": [
    "import sim\n",
    "import numpy as np\n",
    "import time as t"
   ]
  },
  {
   "cell_type": "markdown",
   "id": "5df29ee1-47cb-408c-af80-b3b9b7edcb53",
   "metadata": {},
   "source": [
    "#### Instrucciones\n",
    "\n",
    "        simRemoteApi.start(20000)"
   ]
  },
  {
   "cell_type": "code",
   "execution_count": 6,
   "id": "74fb8fa5",
   "metadata": {},
   "outputs": [],
   "source": [
    "def connect(puerto):\n",
    "    sim.simxFinish(-1)\n",
    "    clienteID = sim.simxStart('127.0.0.1', puerto, True, True, 2000, 5)\n",
    "    if(clienteID == 0): print('conectado a ', puerto)\n",
    "    else: print('no se pudo conectar')\n",
    "    return clienteID\n"
   ]
  },
  {
   "cell_type": "code",
   "execution_count": 25,
   "id": "98438e46",
   "metadata": {},
   "outputs": [
    {
     "name": "stdout",
     "output_type": "stream",
     "text": [
      "conectado a  20000\n"
     ]
    }
   ],
   "source": [
    "clientID = connect(20000)"
   ]
  },
  {
   "cell_type": "markdown",
   "id": "0f8ef542-8f1d-47f1-b428-b49e14c394ce",
   "metadata": {},
   "source": [
    "#### Obtener los manejadores (handlers)\n"
   ]
  },
  {
   "cell_type": "code",
   "execution_count": 8,
   "id": "13d3709b",
   "metadata": {},
   "outputs": [
    {
     "name": "stdout",
     "output_type": "stream",
     "text": [
      "92\n"
     ]
    }
   ],
   "source": [
    "#manejador dummy\n",
    "returnCode, handle = sim.simxGetObjectHandle(clientID, 'Dummy',sim.simx_opmode_blocking)\n",
    "dummy= handle\n",
    "print(dummy)"
   ]
  },
  {
   "cell_type": "code",
   "execution_count": 9,
   "id": "c6cc99ef",
   "metadata": {},
   "outputs": [
    {
     "name": "stdout",
     "output_type": "stream",
     "text": [
      "[6.685073458356783e-06, 2.55399318120908e-05, 1.4559825658798218]\n"
     ]
    }
   ],
   "source": [
    "#a partir de su menejador podemos accionar sobre el objeto\n",
    "#por ejemplo obtener su posicion\n",
    "returnCode, Dummy = sim.simxGetObjectPosition(clientID, dummy,-1,  sim.simx_opmode_blocking)\n",
    "print(Dummy)"
   ]
  },
  {
   "cell_type": "code",
   "execution_count": 10,
   "id": "a99e7a7a-950a-44dd-b35c-fbd32950e2fc",
   "metadata": {},
   "outputs": [],
   "source": [
    "#obtenemos los manejadores para cada una de las articulaciones del robot\n",
    "ret, joint0 = sim.simxGetObjectHandle(clientID, 'joint_0',sim.simx_opmode_blocking)\n",
    "ret, joint1 = sim.simxGetObjectHandle(clientID, 'joint_1',sim.simx_opmode_blocking)\n",
    "ret, joint2 = sim.simxGetObjectHandle(clientID, 'joint_2',sim.simx_opmode_blocking)\n",
    "ret, joint3 = sim.simxGetObjectHandle(clientID, 'joint_3',sim.simx_opmode_blocking)\n",
    "\n",
    "ret, rotacion_garra = sim.simxGetObjectHandle(clientID, 'rotacion_garra',sim.simx_opmode_blocking)\n",
    "ret, garra_1 = sim.simxGetObjectHandle(clientID, 'garra_1',sim.simx_opmode_blocking)\n",
    "ret, garra_2 = sim.simxGetObjectHandle(clientID, 'garra_2',sim.simx_opmode_blocking)\n"
   ]
  },
  {
   "cell_type": "markdown",
   "id": "4c4dc025-9a4a-48c1-a39d-4244c949aac1",
   "metadata": {},
   "source": [
    "#### Cual es la posición de las articulaciones?\n",
    "Utilizando los manejadores, podemos obtener información de los elementos."
   ]
  },
  {
   "cell_type": "code",
   "execution_count": 11,
   "id": "b76b58e5-de17-4ea8-822c-88d8275ecb7b",
   "metadata": {},
   "outputs": [
    {
     "name": "stdout",
     "output_type": "stream",
     "text": [
      "-7.820215728315816e-07 1.5707957744598389\n"
     ]
    }
   ],
   "source": [
    "returnCode, pos0 = sim.simxGetJointPosition(clientID, joint0, sim.simx_opmode_blocking)\n",
    "returnCode, pos1 = sim.simxGetJointPosition(clientID, joint1, sim.simx_opmode_blocking)\n",
    "print(pos0, pos1)"
   ]
  },
  {
   "cell_type": "markdown",
   "id": "f9ab7eb0-813d-42dd-8a8a-afc28c6ebece",
   "metadata": {},
   "source": [
    "#### .... y movemos el robot\n",
    "Utilizando los manejadores, podemos enviar parámetros a los elementos\n"
   ]
  },
  {
   "cell_type": "code",
   "execution_count": 26,
   "id": "e82cef55-ce6f-4888-896b-6560c2377d15",
   "metadata": {},
   "outputs": [
    {
     "name": "stdout",
     "output_type": "stream",
     "text": [
      "terminado\n"
     ]
    }
   ],
   "source": [
    "def set_ang(join_n, ang):\n",
    "    sim.simxSetJointTargetPosition(clientID, join_n, np.deg2rad(ang), sim.simx_opmode_oneshot)\n",
    "\n",
    "set_ang(joint3, ang = 45)   \n",
    "set_ang(joint2, ang = 10)   \n",
    "set_ang(joint1, ang = 90)\n",
    "\n",
    "for ang in np.linspace(0, 360, 180):\n",
    "    t.sleep(.001)\n",
    "    set_ang(joint0, ang/2)\n",
    "    set_ang(joint1, -ang*.3 + 90)\n",
    "    #set_ang(joint2, ang/4 )  \n",
    "print('terminado')"
   ]
  },
  {
   "cell_type": "code",
   "execution_count": null,
   "id": "54512ebe-bfd2-4f33-9218-6d51784337ae",
   "metadata": {},
   "outputs": [],
   "source": []
  }
 ],
 "metadata": {
  "kernelspec": {
   "display_name": "Python 3 (ipykernel)",
   "language": "python",
   "name": "python3"
  },
  "language_info": {
   "codemirror_mode": {
    "name": "ipython",
    "version": 3
   },
   "file_extension": ".py",
   "mimetype": "text/x-python",
   "name": "python",
   "nbconvert_exporter": "python",
   "pygments_lexer": "ipython3",
   "version": "3.8.10"
  }
 },
 "nbformat": 4,
 "nbformat_minor": 5
}
