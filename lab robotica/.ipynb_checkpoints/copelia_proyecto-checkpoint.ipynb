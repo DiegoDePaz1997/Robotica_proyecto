{
 "cells": [
  {
   "cell_type": "code",
   "execution_count": 1,
   "id": "2ff6e66b",
   "metadata": {},
   "outputs": [],
   "source": [
    "import sim\n",
    "import numpy as np\n",
    "import time as t\n",
    "import matplotlib.pyplot as plt \n",
    "import cv2\n",
    "import random as r\n",
    "\n",
    "def connect(port):\n",
    "# Establece la conexión a VREP\n",
    "# port debe coincidir con el puerto de conexión en VREP\n",
    "# retorna el número de cliente o -1 si no puede establecer conexión\n",
    "    sim.simxFinish(-1) # just in case, close all opened connections\n",
    "    clientID=sim.simxStart('127.0.0.1',port,True,True,2000,5) # Conectarse\n",
    "    if clientID == 0: print(\"conectado a\", port)\n",
    "    else: print(\"no se pudo conectar\")\n",
    "    return clientID"
   ]
  },
  {
   "cell_type": "markdown",
   "id": "f9ab7eb0-813d-42dd-8a8a-afc28c6ebece",
   "metadata": {},
   "source": [
    "#### .... y movemos el robot\n",
    "Utilizando los manejadores, podemos enviar parámetros a los elementos\n"
   ]
  },
  {
   "cell_type": "code",
   "execution_count": 16,
   "id": "f7a33c2b-0451-4b19-ad92-7fd4427373e7",
   "metadata": {},
   "outputs": [
    {
     "name": "stdout",
     "output_type": "stream",
     "text": [
      "conectado a 20000\n"
     ]
    }
   ],
   "source": [
    "clientID = connect(20000)\n",
    "#obtenemos los manejadores para cada una de las articulaciones del robot\n",
    "ret, joint0 = sim.simxGetObjectHandle(clientID, 'joint_0',sim.simx_opmode_blocking)\n",
    "ret, joint1 = sim.simxGetObjectHandle(clientID, 'joint_1',sim.simx_opmode_blocking)\n",
    "ret, joint2 = sim.simxGetObjectHandle(clientID, 'joint_2',sim.simx_opmode_blocking)\n",
    "ret, joint3 = sim.simxGetObjectHandle(clientID, 'joint_3',sim.simx_opmode_blocking)\n",
    "\n",
    "ret, tip = sim.simxGetObjectHandle(clientID, 'suctionPad',sim.simx_opmode_blocking)\n",
    "\n",
    "ret, sensorHandle = sim.simxGetObjectHandle(clientID, 'Vision_sensor',sim.simx_opmode_blocking)"
   ]
  },
  {
   "cell_type": "code",
   "execution_count": 3,
   "id": "2ce5034f-6083-456e-984e-e3e7ed5d23d9",
   "metadata": {},
   "outputs": [],
   "source": [
    "velocidad_de_movimiento = 7\n",
    "vm = velocidad_de_movimiento\n",
    "\n",
    "def set_ang(join_n, ang):\n",
    "    sim.simxSetJointTargetPosition(clientID, join_n, np.deg2rad(ang), sim.simx_opmode_oneshot)\n",
    "\n",
    "def set_angles(angs):\n",
    "    set_ang(joint0, angs[0])\n",
    "    set_ang(joint1, angs[1])   \n",
    "    set_ang(joint2, angs[2])   \n",
    "    set_ang(joint3, angs[3])"
   ]
  },
  {
   "cell_type": "code",
   "execution_count": 17,
   "id": "54512ebe-bfd2-4f33-9218-6d51784337ae",
   "metadata": {
    "tags": []
   },
   "outputs": [],
   "source": [
    "class robot:\n",
    "    def __init__(self, ang0, ang1, ang2, ang3, delta):\n",
    "        self.ang0 = ang0\n",
    "        self.ang1 = ang1\n",
    "        self.ang2 = ang2\n",
    "        self.ang3 = ang3\n",
    "        self.delta = delta\n",
    "        \n",
    "    def setEffector(self,val):\n",
    "        # acciona el efector final\n",
    "        # val es Int con valor 0 ó 1 para desactivar o activar el actuador final.\n",
    "        res,retInts,retFloats,retStrings,retBuffer=sim.simxCallScriptFunction(clientID,\n",
    "        \"suctionPad\", sim.sim_scripttype_childscript,\"setEffector\",[val],[],[],\"\", sim.simx_opmode_blocking)\n",
    "        return res\n",
    "    \n",
    "    \n",
    "    def ang2_var(self, new_ang2):\n",
    "        dif_ang2 = self.ang2 - new_ang2\n",
    "        self.ang2 = new_ang2\n",
    "        self.ang3 = self.ang3 + dif_ang2\n",
    "        \n",
    "        \n",
    "    def ang1_var(self, new_ang1):\n",
    "        dif_ang1 = self.ang1 - new_ang1\n",
    "        self.ang2 = self.ang2 + dif_ang1\n",
    "        self.ang1 = new_ang1\n",
    "  \n",
    "     \n",
    "    def get_angles(self):\n",
    "        return [self.ang0, self.ang1, self.ang2, self.ang3]\n",
    "\n",
    "    \n",
    "    def camino_ang0(self, new_ang0):\n",
    "        neg_pos = -1 if new_ang0<=0 else 1\n",
    "        array = np.arange(self.ang0, new_ang0, self.delta*neg_pos)\n",
    "        for ind,i in enumerate(array):\n",
    "            set_ang(joint0, i)\n",
    "            if ind%vm ==0: t.sleep(0.01)\n",
    "        \n",
    "        self.ang0 = new_ang0\n",
    "    \n",
    "    \n",
    "    \n",
    "    def camino_ang1(self, new_ang1):      \n",
    "        neg_pos = -1 if self.ang1>new_ang1 else 1\n",
    "        array = np.arange(self.ang1, new_ang1, self.delta*neg_pos)\n",
    "        for ind,i in enumerate(array):\n",
    "            if ind%vm ==0: t.sleep(0.01)\n",
    "            self.ang1_var(i)\n",
    "            set_angles(self.get_angles())\n",
    "            \n",
    "    \n",
    "    \n",
    "    def camino_ang2(self, new_ang2):  \n",
    "        neg_pos = -1 if self.ang2>new_ang2 else 1\n",
    "        array = np.arange(self.ang2, new_ang2, self.delta*neg_pos)\n",
    "        for ind,i in enumerate(array):\n",
    "            if ind%vm ==0: t.sleep(0.01)\n",
    "            self.ang2_var(i)\n",
    "            set_angles(self.get_angles())\n",
    "               \n",
    "    \n",
    "\n",
    "\n",
    "robot = robot(0, 90, -90, -90, .2)\n",
    "set_angles(robot.get_angles())\n",
    "\n",
    "\n",
    "\n",
    "\n",
    "def prom_R_G_B():\n",
    "    retCode, resolution, image = sim.simxGetVisionSensorImage(clientID, sensorHandle, 0, sim.simx_opmode_oneshot_wait)\n",
    "    img = np.array(image,dtype= np.uint8)\n",
    "    img.resize([resolution[1], resolution[0], 3])\n",
    "    plt.imshow(img);\n",
    "        \n",
    "    rojo = np.mean(img[:,:,0])\n",
    "    verde = np.mean(img[:,:,1])\n",
    "    azul = np.mean(img[:,:,2])\n",
    "    return [rojo, verde, azul]\n",
    "\n",
    "\n",
    "def color_selector():\n",
    "    G = [95, 60, -40]\n",
    "    R =  [-95, 50, -40]\n",
    "    B = [-180, 60, -40]\n",
    "    rojo, verde, azul = prom_R_G_B()\n",
    "    if(rojo> 200): return R\n",
    "    if(azul> 200): return B\n",
    "    if(verde> 200): return G\n",
    "    return [0,90, 0]\n",
    "            \n",
    "        \n",
    "\n",
    "        "
   ]
  },
  {
   "cell_type": "code",
   "execution_count": 18,
   "id": "6c82faba-496b-4c48-a3ce-2f40ebdd8c5d",
   "metadata": {
    "tags": []
   },
   "outputs": [
    {
     "data": {
      "image/png": "[encoded data removed]",
      "text/plain": [
       "<Figure size 432x288 with 1 Axes>"
      ]
     },
     "metadata": {
      "needs_background": "light"
     },
     "output_type": "display_data"
    }
   ],
   "source": [
    "angs =[\n",
    "    [10, -1.8, 0],\n",
    "    [0, 2.8, -10],\n",
    "    [-10, 2.3, -10],\n",
    "    \n",
    "    [0, 30, -65.4],\n",
    "    [10, 30, -65.4],\n",
    "    [-10, 30, -65.4]\n",
    "]\n",
    "an0, an1, an2 = angs[0]\n",
    "\n",
    "\n",
    "\n",
    "def clasificador(v):\n",
    "    robot.camino_ang2(v[2])  \n",
    "    robot.camino_ang1(v[1])  \n",
    "    robot.camino_ang0(v[0])\n",
    "    robot.setEffector(0)\n",
    "    \n",
    "def elector_de_cubo(angs):\n",
    "    robot.camino_ang0(angs[0])\n",
    "    robot.camino_ang1(angs[1])\n",
    "    robot.camino_ang2(angs[2])    \n",
    "    robot.setEffector(1)#succion    \n",
    "\n",
    "    \n",
    "def ingreso_de_un_cubo(angs):\n",
    "    elector_de_cubo(angs)   \n",
    "    #constante a todos\n",
    "    robot.camino_ang1(60) \n",
    "    robot.camino_ang2(-40) \n",
    "    clasificador(color_selector())    \n",
    "\n",
    "    \n",
    "    \n",
    "for i in r.sample(range(6), 6):    \n",
    "    ingreso_de_un_cubo(angs[i])\n"
   ]
  },
  {
   "cell_type": "code",
   "execution_count": null,
   "id": "566383f9-e934-4b94-be4d-d132ec926c87",
   "metadata": {},
   "outputs": [],
   "source": []
  }
 ],
 "metadata": {
  "kernelspec": {
   "display_name": "Python 3 (ipykernel)",
   "language": "python",
   "name": "python3"
  },
  "language_info": {
   "codemirror_mode": {
    "name": "ipython",
    "version": 3
   },
   "file_extension": ".py",
   "mimetype": "text/x-python",
   "name": "python",
   "nbconvert_exporter": "python",
   "pygments_lexer": "ipython3",
   "version": "3.8.10"
  }
 },
 "nbformat": 4,
 "nbformat_minor": 5
}
