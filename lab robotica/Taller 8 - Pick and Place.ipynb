{
 "cells": [
  {
   "cell_type": "markdown",
   "metadata": {},
   "source": [
    "<h2> Taller 8 - Pick and Place</h2>\n",
    "\n",
    "<br>Requiere que los archivos 'sim.py', 'simConst.py', 'remoteapi.dll' estén alojados en la misma carpeta que este cuaderno de Jupyter.\n",
    "<br> Desde CoppeliaSim, abrir la escena MTB_Pick_N_Place.ttt\n"
   ]
  },
  {
   "cell_type": "code",
   "execution_count": 1,
   "metadata": {},
   "outputs": [],
   "source": [
    "# importamos las librerías necesarias\n",
    "import sim          # librería para conectar con CoppeliaSim\n",
    "import sympy as sp  # librería para cálculo simbólico\n",
    "import time"
   ]
  },
  {
   "cell_type": "markdown",
   "metadata": {},
   "source": [
    "### 0. Verificamos que todo esté funcionando... \n",
    "\n",
    "El robot cuenta con una vensosa en el extremo. Ésta se activa automáticamente al acercarse al cubo (1 mm o menos) y se desactiva cuando el cubo se coloca sobre la plataforma (5 mm o menos)."
   ]
  },
  {
   "cell_type": "code",
   "execution_count": 2,
   "metadata": {},
   "outputs": [],
   "source": [
    "def connect(port):\n",
    "# Establece la conexión a VREP\n",
    "# port debe coincidir con el puerto de conexión en VREP\n",
    "# retorna el número de cliente o -1 si no puede establecer conexión\n",
    "    sim.simxFinish(-1) # just in case, close all opened connections\n",
    "    clientID=sim.simxStart('127.0.0.1',port,True,True,2000,5) # Conectarse\n",
    "    if clientID == 0: print(\"conectado a\", port)\n",
    "    else: print(\"no se pudo conectar\")\n",
    "    return clientID\n"
   ]
  },
  {
   "cell_type": "code",
   "execution_count": 3,
   "metadata": {},
   "outputs": [],
   "source": [
    "def setEffector(val):\n",
    "# acciona el efector final\n",
    "# val es Int con valor 0 ó 1 para desactivar o activar el actuador final.\n",
    "    res,retInts,retFloats,retStrings,retBuffer=sim.simxCallScriptFunction(clientID,\n",
    "        \"suctionPad\", sim.sim_scripttype_childscript,\"setEffector\",[val],[],[],\"\", sim.simx_opmode_blocking)\n",
    "    return res"
   ]
  },
  {
   "cell_type": "code",
   "execution_count": 4,
   "metadata": {},
   "outputs": [
    {
     "name": "stdout",
     "output_type": "stream",
     "text": [
      "('conectado a', 19999)\n",
      "(38, 21, 22, 23, 34, 35, 36, 37)\n"
     ]
    }
   ],
   "source": [
    "# Requerimos los manejadores para las articulaciones y el Dummy\n",
    "clientID = connect(19999)\n",
    "\n",
    "retCode,effector=sim.simxGetObjectHandle(clientID,'effector',sim.simx_opmode_blocking)\n",
    "retCode,joint1=sim.simxGetObjectHandle(clientID,'MTB_joint1',sim.simx_opmode_blocking)\n",
    "retCode,joint2=sim.simxGetObjectHandle(clientID,'MTB_joint2',sim.simx_opmode_blocking)\n",
    "retCode,joint3=sim.simxGetObjectHandle(clientID,'MTB_joint3',sim.simx_opmode_blocking)\n",
    "retCode,joint4=sim.simxGetObjectHandle(clientID,'MTB_joint4',sim.simx_opmode_blocking)\n",
    "retCode,caja1=sim.simxGetObjectHandle(clientID,'Caja1',sim.simx_opmode_blocking)\n",
    "retCode,caja2=sim.simxGetObjectHandle(clientID,'Caja2',sim.simx_opmode_blocking)\n",
    "retCode,caja3=sim.simxGetObjectHandle(clientID,'Caja3',sim.simx_opmode_blocking)\n",
    "\n",
    "print(effector, joint1, joint2, joint3, joint4, caja1, caja2, caja3)"
   ]
  },
  {
   "cell_type": "code",
   "execution_count": 9,
   "metadata": {},
   "outputs": [],
   "source": [
    "# Enviamos las posiciones a las articulaciones\n",
    "q = [0, 0, 0.0]\n",
    "\n",
    "retCode = sim.simxSetJointTargetPosition(clientID, joint1, q[0], sim.simx_opmode_oneshot)\n",
    "retCode = sim.simxSetJointTargetPosition(clientID, joint2, q[1], sim.simx_opmode_oneshot)\n",
    "retCode = sim.simxSetJointTargetPosition(clientID, joint3, q[2], sim.simx_opmode_oneshot)\n"
   ]
  },
  {
   "cell_type": "code",
   "execution_count": 10,
   "metadata": {},
   "outputs": [
    {
     "data": {
      "text/plain": [
       "0"
      ]
     },
     "execution_count": 10,
     "metadata": {},
     "output_type": "execute_result"
    }
   ],
   "source": [
    "# Activamos o desactivamos el actuador final\n",
    "setEffector(0)"
   ]
  },
  {
   "cell_type": "markdown",
   "metadata": {},
   "source": [
    "###  1. Preparamos la información necesaria\n",
    "A partir de la matriz de cinemática directa calculamos la cinemática inversa."
   ]
  },
  {
   "cell_type": "code",
   "execution_count": 11,
   "metadata": {},
   "outputs": [
    {
     "data": {
      "text/latex": [
       "$\\displaystyle \\left[\\begin{matrix}\\cos{\\left(q_{1} + q_{2} + q_{4} \\right)} & - \\sin{\\left(q_{1} + q_{2} + q_{4} \\right)} & 0 & 0.467 \\cos{\\left(q_{1} \\right)} + 0.4005 \\cos{\\left(q_{1} + q_{2} \\right)}\\\\\\sin{\\left(q_{1} + q_{2} + q_{4} \\right)} & \\cos{\\left(q_{1} + q_{2} + q_{4} \\right)} & 0 & 0.467 \\sin{\\left(q_{1} \\right)} + 0.4005 \\sin{\\left(q_{1} + q_{2} \\right)}\\\\0 & 0 & 1 & 0.234 - q_{3}\\\\0 & 0 & 0 & 1\\end{matrix}\\right]$"
      ],
      "text/plain": [
       "Matrix([\n",
       "[cos(q1 + q2 + q4), -sin(q1 + q2 + q4), 0, 0.467*cos(q1) + 0.4005*cos(q1 + q2)],\n",
       "[sin(q1 + q2 + q4),  cos(q1 + q2 + q4), 0, 0.467*sin(q1) + 0.4005*sin(q1 + q2)],\n",
       "[                0,                  0, 1,                          0.234 - q3],\n",
       "[                0,                  0, 0,                                   1]])"
      ]
     },
     "execution_count": 11,
     "metadata": {},
     "output_type": "execute_result"
    }
   ],
   "source": [
    "# 1. Las expresiones de cinemática directa\n",
    "\n",
    "# En una actividad anterior se obtuvo la matriz de cinemática directa\n",
    "# para el actuador final, como función de las posiciones de las articulaciones.\n",
    "\n",
    "q1 = sp.symbols('q1') # ángulo de la articulación rotacional joint1, en radianes\n",
    "q2 = sp.symbols('q2') # ángulo de la articulación rotacional joint2, en radianes\n",
    "q3 = sp.symbols('q3') # posición de la articulación prismática joint3, en metros\n",
    "q4 = sp.symbols('q4') # ángulo de la articulación rotacional joint4, en radianes\n",
    "\n",
    "T = sp.Matrix([[sp.cos(q1 + q2 + q4), -sp.sin(q1 + q2 + q4), 0, 0.467*sp.cos(q1) + 0.4005*sp.cos(q1 + q2)],\n",
    "            [sp.sin(q1 + q2 + q4), sp.cos(q1 + q2 + q4), 0, 0.467*sp.sin(q1) + 0.4005*sp.sin(q1 + q2)], \n",
    "            [0, 0, 1, 0.234 - q3], \n",
    "            [0, 0, 0, 1]])\n",
    "T"
   ]
  },
  {
   "cell_type": "markdown",
   "metadata": {},
   "source": [
    "###  2. Obtenemos la posición y orientación del punto de destino\n"
   ]
  },
  {
   "cell_type": "code",
   "execution_count": 12,
   "metadata": {},
   "outputs": [],
   "source": [
    "# Definimos una función para construir la matriz de rotación\n",
    "# a partir de los ángulos de euler\n",
    "\n",
    "def matrixFromEuler(alpha, beta, gamma):\n",
    "    # theta y alpha en radianes\n",
    "    # d y a en metros\n",
    "    Ra = sp.Matrix([[1, 0, 0, 0],\n",
    "                   [0, sp.cos(alpha), -sp.sin(alpha), 0],\n",
    "                   [0, sp.sin(alpha), sp.cos(alpha), 0],\n",
    "                   [0, 0, 0, 1]])\n",
    "    Rb = sp.Matrix([[sp.cos(beta), 0, sp.sin(beta), 0],\n",
    "                   [0, 1, 0, 0],\n",
    "                   [-sp.sin(beta), 0, sp.cos(beta), 0],\n",
    "                   [0, 0, 0, 1]])\n",
    "    Rc = sp.Matrix([[sp.cos(gamma), -sp.sin(gamma), 0, 0],\n",
    "                   [sp.sin(gamma), sp.cos(gamma), 0, 0],\n",
    "                   [0, 0, 1, 0],\n",
    "                   [0, 0, 0, 1]])\n",
    "    T = Ra*Rb*Rc\n",
    "    return T"
   ]
  },
  {
   "cell_type": "code",
   "execution_count": 16,
   "metadata": {},
   "outputs": [
    {
     "data": {
      "text/latex": [
       "$\\displaystyle \\left[\\begin{matrix}\\frac{\\sqrt{2}}{2} & - \\frac{\\sqrt{2}}{2} & 0 & 0\\\\\\frac{1}{2} & \\frac{1}{2} & - \\frac{\\sqrt{2}}{2} & 0\\\\\\frac{1}{2} & \\frac{1}{2} & \\frac{\\sqrt{2}}{2} & 0\\\\0 & 0 & 0 & 1\\end{matrix}\\right]$"
      ],
      "text/plain": [
       "Matrix([\n",
       "[sqrt(2)/2, -sqrt(2)/2,          0, 0],\n",
       "[      1/2,        1/2, -sqrt(2)/2, 0],\n",
       "[      1/2,        1/2,  sqrt(2)/2, 0],\n",
       "[        0,          0,          0, 1]])"
      ]
     },
     "execution_count": 16,
     "metadata": {},
     "output_type": "execute_result"
    }
   ],
   "source": [
    "matrixFromEuler(45*sp.pi/180, 0, 45*sp.pi/180)"
   ]
  },
  {
   "cell_type": "code",
   "execution_count": 17,
   "metadata": {},
   "outputs": [
    {
     "data": {
      "text/latex": [
       "$\\displaystyle \\left[\\begin{matrix}\\frac{\\sqrt{2}}{2} & - \\frac{\\sqrt{2}}{2} & 0 & 0.5\\\\\\frac{\\sqrt{2}}{2} & \\frac{\\sqrt{2}}{2} & 0 & 0.5\\\\0 & 0 & 1 & 0.1\\\\0 & 0 & 0 & 1\\end{matrix}\\right]$"
      ],
      "text/plain": [
       "Matrix([\n",
       "[sqrt(2)/2, -sqrt(2)/2, 0, 0.5],\n",
       "[sqrt(2)/2,  sqrt(2)/2, 0, 0.5],\n",
       "[        0,          0, 1, 0.1],\n",
       "[        0,          0, 0,   1]])"
      ]
     },
     "execution_count": 17,
     "metadata": {},
     "output_type": "execute_result"
    }
   ],
   "source": [
    "# A partir de las coordenadas de posición y los ángulos de Euler\n",
    "# es posible obtener la matriz de transformación\n",
    "\n",
    "x = 0.5\n",
    "y = 0.5\n",
    "z = 0.1\n",
    "alpha = 0\n",
    "beta = 0\n",
    "gamma = 45*sp.pi/180\n",
    "\n",
    "t = sp.Matrix([[1, 0, 0, x],\n",
    "               [0, 1, 0, y], \n",
    "               [0, 0, 1, z], \n",
    "               [0, 0, 0, 1]])\n",
    "\n",
    "D = t*matrixFromEuler(alpha, beta, gamma)\n",
    "D"
   ]
  },
  {
   "cell_type": "markdown",
   "metadata": {},
   "source": [
    "###  3. Calculamos ahora la cinemática inversa\n"
   ]
  },
  {
   "cell_type": "code",
   "execution_count": 18,
   "metadata": {},
   "outputs": [
    {
     "data": {
      "text/latex": [
       "$\\displaystyle \\left[\\begin{matrix}\\cos{\\left(q_{1} + q_{2} + q_{4} \\right)} - \\frac{\\sqrt{2}}{2} & - \\sin{\\left(q_{1} + q_{2} + q_{4} \\right)} + \\frac{\\sqrt{2}}{2} & 0 & 0.467 \\cos{\\left(q_{1} \\right)} + 0.4005 \\cos{\\left(q_{1} + q_{2} \\right)} - 0.5\\\\\\sin{\\left(q_{1} + q_{2} + q_{4} \\right)} - \\frac{\\sqrt{2}}{2} & \\cos{\\left(q_{1} + q_{2} + q_{4} \\right)} - \\frac{\\sqrt{2}}{2} & 0 & 0.467 \\sin{\\left(q_{1} \\right)} + 0.4005 \\sin{\\left(q_{1} + q_{2} \\right)} - 0.5\\\\0 & 0 & 0 & 0.134 - q_{3}\\\\0 & 0 & 0 & 0\\end{matrix}\\right]$"
      ],
      "text/plain": [
       "Matrix([\n",
       "[cos(q1 + q2 + q4) - sqrt(2)/2, -sin(q1 + q2 + q4) + sqrt(2)/2, 0, 0.467*cos(q1) + 0.4005*cos(q1 + q2) - 0.5],\n",
       "[sin(q1 + q2 + q4) - sqrt(2)/2,  cos(q1 + q2 + q4) - sqrt(2)/2, 0, 0.467*sin(q1) + 0.4005*sin(q1 + q2) - 0.5],\n",
       "[                            0,                              0, 0,                                0.134 - q3],\n",
       "[                            0,                              0, 0,                                         0]])"
      ]
     },
     "execution_count": 18,
     "metadata": {},
     "output_type": "execute_result"
    }
   ],
   "source": [
    "# La función nsolve de sympy busca valores busca soluciones que\n",
    "# igualan una expresión a cero. Si requerimos T = D, entonces buscamos T-D = 0\n",
    "\n",
    "T-D\n"
   ]
  },
  {
   "cell_type": "code",
   "execution_count": 19,
   "metadata": {},
   "outputs": [
    {
     "data": {
      "text/latex": [
       "$\\displaystyle \\left[\\begin{matrix}0.220089\\\\1.23996\\\\0.134\\\\-0.674648\\end{matrix}\\right]$"
      ],
      "text/plain": [
       "Matrix([\n",
       "[ 0.220089],\n",
       "[  1.23996],\n",
       "[    0.134],\n",
       "[-0.674648]])"
      ]
     },
     "execution_count": 19,
     "metadata": {},
     "output_type": "execute_result"
    }
   ],
   "source": [
    "# Buscamos una solución relajando la precisión requerida para facilitar el cálculo.\n",
    "# La precisión por defecto es de 15 cifras significativas.\n",
    "\n",
    "try:\n",
    "    q = sp.nsolve((T-D), (q1, q2, q3, q4), (1, 1, 1, 1), prec=6)\n",
    "except:\n",
    "    print('no se encontró la solución')\n",
    "    q = [0, 0, 0, 0]\n",
    "q"
   ]
  },
  {
   "cell_type": "code",
   "execution_count": 20,
   "metadata": {},
   "outputs": [
    {
     "name": "stdout",
     "output_type": "stream",
     "text": [
      "('conectado a', 19999)\n"
     ]
    }
   ],
   "source": [
    "# enviamos los ángulos a las articulaciones\n",
    "clientID = connect(19999)\n",
    "retCode = sim.simxSetJointTargetPosition(clientID, joint1, q[0], sim.simx_opmode_blocking)\n",
    "retCode = sim.simxSetJointTargetPosition(clientID, joint2, q[1], sim.simx_opmode_blocking)\n",
    "retCode = sim.simxSetJointTargetPosition(clientID, joint3, q[2], sim.simx_opmode_blocking)\n",
    "retCode = sim.simxSetJointTargetPosition(clientID, joint4, q[3], sim.simx_opmode_blocking)\n"
   ]
  },
  {
   "cell_type": "code",
   "execution_count": 21,
   "metadata": {},
   "outputs": [
    {
     "name": "stdout",
     "output_type": "stream",
     "text": [
      "[0.4999592900276184, 0.49999570846557617, 0.09971171617507935]\n"
     ]
    }
   ],
   "source": [
    "# verificamos la posición del actuador\n",
    "retCode,pos=sim.simxGetObjectPosition(clientID, effector, -1, sim.simx_opmode_blocking)\n",
    "print(pos)"
   ]
  },
  {
   "cell_type": "code",
   "execution_count": 22,
   "metadata": {},
   "outputs": [
    {
     "name": "stdout",
     "output_type": "stream",
     "text": [
      "0.00341679789427\n",
      "0.00358105347118\n",
      "45.0004800027\n"
     ]
    }
   ],
   "source": [
    "# y la orientación\n",
    "retCode,eul=sim.simxGetObjectOrientation(clientID, effector, -1, sim.simx_opmode_blocking)\n",
    "print(eul[0]*180/3.1416)\n",
    "print(eul[1]*180/3.1416)\n",
    "print(eul[2]*180/3.1416)"
   ]
  },
  {
   "cell_type": "markdown",
   "metadata": {},
   "source": [
    "<h3> Taller 8 </h3>\n",
    "Utilizando el procedimiento para el cálculo de la cinemática inversa, construya una secuencia de movimientos para alinear los tres cubos, uno sobre los otros. Siga el siguiente procedimiento:<br><br>\n",
    "1. Obtenga la posición del primer cubo, recójalo desde esa posición y ubíquelo en una posición cualquiera que usted decida. Recuerde activar y desactivar el actuador final con la función setEffector()<br>\n",
    "2. Obtenga la posición y orientación del segundo cubo, recójalo desde su ubicación y colóquelo sobre el primer cubo, asignando la orientación necesaria en el ángulo gamma, de tal forma que quede perfectamente alineado con el primer cubo.<br>\n",
    "3. Repita el procedimiento para el tercer cubo, de tal manera que quede sobre el segundo y perfectamente alineado con los otros dos.<br>\n",
    "<br>\n",
    "Nota: Considere que la única orientación que puede ser manejada es el ángulo gamma (rotación respecto al eje z, respecto del sistema de coordenadas del mundo).<br>\n",
    "Sugerencia: obtenga automáticamente la posición y orientación de cada cubo y realice los cálculos a partir de estas coordenadas. Recuerde que las coordenadas que obtendrá serán las coordenadas del centro del objeto."
   ]
  },
  {
   "cell_type": "code",
   "execution_count": 23,
   "metadata": {},
   "outputs": [
    {
     "name": "stdout",
     "output_type": "stream",
     "text": [
      "('conectado a', 19999)\n",
      "leyendo la posición objetivo...\n",
      "[0.5677583813667297, -0.0583653561770916, 0.02499992400407791]\n",
      "8.76847054349e-07\n",
      "-8.96514744286e-07\n",
      "67.1515103239\n",
      "calculando la cinemática inversa...\n",
      "Matrix([[-0.870443], [1.71224], [0.183000], [0.330220]])\n",
      "moviendo a la posición objetivo...\n",
      "movimiento concluido!\n"
     ]
    }
   ],
   "source": [
    "# Para el primer cubo\n",
    "clientID = connect(19999)\n",
    "\n",
    "# obtenemos la posición\n",
    "print(\"leyendo la posición objetivo...\")\n",
    "retCode,pos=sim.simxGetObjectPosition(clientID, caja1, -1, sim.simx_opmode_blocking)\n",
    "print(pos)\n",
    "# y orientación\n",
    "retCode,eul=sim.simxGetObjectOrientation(clientID, caja1, -1, sim.simx_opmode_blocking)\n",
    "print(eul[0]*180/3.1416)\n",
    "print(eul[1]*180/3.1416)\n",
    "print(eul[2]*180/3.1416)\n",
    "\n",
    "# definimos las coordenadas de destino\n",
    "x = pos[0]\n",
    "y = pos[1]\n",
    "z = pos[2] + 0.026 # distancia del centro al borde + tolerancia\n",
    "alpha = eul[0]\n",
    "beta = eul[1]\n",
    "gamma = eul[2]\n",
    "t = sp.Matrix([[1, 0, 0, x],\n",
    "               [0, 1, 0, y], \n",
    "               [0, 0, 1, z], \n",
    "               [0, 0, 0, 1]])\n",
    "\n",
    "D = t*matrixFromEuler(alpha, beta, gamma)\n",
    "\n",
    "# calculamos la cinemática inversa\n",
    "print(\"calculando la cinemática inversa...\")\n",
    "try:\n",
    "    q = sp.nsolve((T-D), (q1, q2, q3, q4), (1, 1, 1, 1), prec=6)\n",
    "except:\n",
    "    print('no se encontró la solución')\n",
    "    q = [0, 0, 0, 0]\n",
    "print q\n",
    "\n",
    "# movemos el robot a la posición\n",
    "print(\"moviendo a la posición objetivo...\")\n",
    "retCode = sim.simxSetJointTargetPosition(clientID, joint1, q[0], sim.simx_opmode_blocking)\n",
    "retCode = sim.simxSetJointTargetPosition(clientID, joint2, q[1], sim.simx_opmode_blocking)\n",
    "retCode = sim.simxSetJointTargetPosition(clientID, joint3, 0, sim.simx_opmode_blocking)\n",
    "retCode = sim.simxSetJointTargetPosition(clientID, joint4, q[3], sim.simx_opmode_blocking)\n",
    "time.sleep(1)\n",
    "# bajamos el actuador\n",
    "retCode = sim.simxSetJointTargetPosition(clientID, joint3, q[2], sim.simx_opmode_blocking)\n",
    "time.sleep(1)\n",
    "# activamos el efector\n",
    "setEffector(1)\n",
    "time.sleep(1)\n",
    "# levantamos el actuador\n",
    "retCode = sim.simxSetJointTargetPosition(clientID, joint3, 0, sim.simx_opmode_blocking)\n",
    "time.sleep(1)\n",
    "# volvemos a la posición inicial\n",
    "retCode = sim.simxSetJointTargetPosition(clientID, joint1, 0, sim.simx_opmode_blocking)\n",
    "retCode = sim.simxSetJointTargetPosition(clientID, joint2, 0, sim.simx_opmode_blocking)\n",
    "retCode = sim.simxSetJointTargetPosition(clientID, joint3, 0, sim.simx_opmode_blocking)\n",
    "time.sleep(1)\n",
    "# bajamos el cubo\n",
    "retCode = sim.simxSetJointTargetPosition(clientID, joint3, q[2], sim.simx_opmode_blocking)\n",
    "time.sleep(1)\n",
    "# desactivamos el actuador\n",
    "time.sleep(1)\n",
    "setEffector(0)\n",
    "# y levantamos\n",
    "retCode = sim.simxSetJointTargetPosition(clientID, joint3, 0, sim.simx_opmode_blocking)\n",
    "print(\"movimiento concluido!\")"
   ]
  },
  {
   "cell_type": "code",
   "execution_count": null,
   "metadata": {},
   "outputs": [],
   "source": []
  }
 ],
 "metadata": {
  "kernelspec": {
   "display_name": "Python 3 (ipykernel)",
   "language": "python",
   "name": "python3"
  },
  "language_info": {
   "codemirror_mode": {
    "name": "ipython",
    "version": 3
   },
   "file_extension": ".py",
   "mimetype": "text/x-python",
   "name": "python",
   "nbconvert_exporter": "python",
   "pygments_lexer": "ipython3",
   "version": "3.8.10"
  }
 },
 "nbformat": 4,
 "nbformat_minor": 4
}
