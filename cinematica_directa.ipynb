{
 "cells": [
  {
   "cell_type": "markdown",
   "id": "04a39f26-d8b9-4eb2-91f7-9d7285c99506",
   "metadata": {},
   "source": [
    "# Cinematica directa DH"
   ]
  },
  {
   "cell_type": "markdown",
   "id": "c7e99496-f4dd-4e2d-a46e-fe5f372fe89a",
   "metadata": {},
   "source": [
    "#### Los algulos a ingresar deben de estar en radianes\n",
    "##### usar np.deg2rad()\n",
    "##### https://profesores.utec.edu.pe/oramos/teaching/201/fund-robotica/lectures.html   recursos para robotica"
   ]
  },
  {
   "cell_type": "code",
   "execution_count": 14,
   "id": "81ffee0e-18e4-4b30-bc4c-25b0b322ac0f",
   "metadata": {},
   "outputs": [],
   "source": [
    "from defs_robotica import *\n",
    "import numpy as np"
   ]
  },
  {
   "cell_type": "code",
   "execution_count": 15,
   "id": "7334964e-3b50-4d26-9d01-23bb86a32b36",
   "metadata": {},
   "outputs": [
    {
     "name": "stdout",
     "output_type": "stream",
     "text": [
      "[[-0.86597699  0.50006315  0.0045499   0.06753648]\n",
      " [-0.06329519 -0.10057634 -0.99291395  0.00518183]\n",
      " [-0.49606206 -0.86012862  0.11874839  2.76264325]\n",
      " [ 0.          0.          0.          1.        ]]\n"
     ]
    }
   ],
   "source": [
    "#T_s(b1, a2, a3, d6, ang)\n",
    "b1 = 1\n",
    "a2 = 1\n",
    "a3 = 1\n",
    "d6 = .1\n",
    "ang= (1, 1, 1, 1, 1, 0.6,)\n",
    "\n",
    "T = T_s(b1, a2, a3, d6, ang)\n",
    "tt = T[5]\n",
    "print(tt)"
   ]
  },
  {
   "cell_type": "markdown",
   "id": "8d41a8f3-93b9-478b-b907-da42652a0522",
   "metadata": {},
   "source": [
    "# cinematica inversa"
   ]
  },
  {
   "cell_type": "code",
   "execution_count": 16,
   "id": "35858ede-8b3b-4bc8-bcbb-5b8143d3f5ca",
   "metadata": {},
   "outputs": [
    {
     "name": "stdout",
     "output_type": "stream",
     "text": [
      "[[ 1.      1.      1.      1.      1.      0.6   ]\n",
      " [ 1.      2.     -1.      2.      1.      0.6   ]\n",
      " [-2.1416  1.      1.     -1.8584  2.1416 -2.5416]\n",
      " [-2.1416  2.     -1.     -0.8584  2.1416 -2.5416]\n",
      " [ 1.      1.      1.     -2.1416 -1.     -2.5416]\n",
      " [ 1.      2.     -1.     -1.1416 -1.     -2.5416]\n",
      " [-2.1416  1.      1.      1.2832 -2.1416  0.6   ]\n",
      " [-2.1416  2.     -1.      2.2832 -2.1416  0.6   ]]\n"
     ]
    }
   ],
   "source": [
    "final = cin_inversa(b1, a2, a3, d6, tt)\n",
    "print(final)"
   ]
  },
  {
   "cell_type": "code",
   "execution_count": 17,
   "id": "e3a03fb5-d97b-429f-aabe-8e7afa1ca809",
   "metadata": {},
   "outputs": [
    {
     "name": "stdout",
     "output_type": "stream",
     "text": [
      "[[ True  True  True False]\n",
      " [ True  True  True False]\n",
      " [ True  True  True  True]\n",
      " [ True  True  True  True]]\n",
      " \n",
      "[[-0.86597699  0.50006315  0.0045499   0.06753648]\n",
      " [-0.06329519 -0.10057634 -0.99291395  0.00518183]\n",
      " [-0.49606206 -0.86012862  0.11874839  2.76264325]\n",
      " [ 0.          0.          0.          1.        ]]\n",
      " \n",
      "[[-0.86598307  0.50005261  0.0045504  -0.06662721]\n",
      " [-0.06329718 -0.10058168 -0.99291329 -0.20376406]\n",
      " [-0.4960512  -0.86013412  0.11875395  2.76264381]\n",
      " [ 0.          0.          0.          1.        ]]\n"
     ]
    }
   ],
   "source": [
    "\n",
    "T_sol = T_s(b1, a2, a3, d6, final[2])\n",
    "jj = T_sol[5]\n",
    "print(jj.round(3) == tt.round(3))\n",
    "print(' ')\n",
    "print(tt)\n",
    "print(' ')\n",
    "\n",
    "print(jj)"
   ]
  },
  {
   "cell_type": "code",
   "execution_count": null,
   "id": "e15fc50e-151f-4ef1-8d70-d61efc8b49ce",
   "metadata": {},
   "outputs": [],
   "source": []
  }
 ],
 "metadata": {
  "kernelspec": {
   "display_name": "Python 3 (ipykernel)",
   "language": "python",
   "name": "python3"
  },
  "language_info": {
   "codemirror_mode": {
    "name": "ipython",
    "version": 3
   },
   "file_extension": ".py",
   "mimetype": "text/x-python",
   "name": "python",
   "nbconvert_exporter": "python",
   "pygments_lexer": "ipython3",
   "version": "3.8.10"
  }
 },
 "nbformat": 4,
 "nbformat_minor": 5
}
