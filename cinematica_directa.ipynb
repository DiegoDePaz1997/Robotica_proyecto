{
 "cells": [
  {
   "cell_type": "markdown",
   "id": "04a39f26-d8b9-4eb2-91f7-9d7285c99506",
   "metadata": {},
   "source": [
    "# Cinematica directa DH"
   ]
  },
  {
   "cell_type": "markdown",
   "id": "c7e99496-f4dd-4e2d-a46e-fe5f372fe89a",
   "metadata": {},
   "source": [
    "#### Los algulos a ingresar deben de estar en radianes\n",
    "##### usar np.deg2rad()\n",
    "##### https://profesores.utec.edu.pe/oramos/teaching/201/fund-robotica/lectures.html   recursos para robotica"
   ]
  },
  {
   "cell_type": "code",
   "execution_count": 45,
   "id": "81ffee0e-18e4-4b30-bc4c-25b0b322ac0f",
   "metadata": {},
   "outputs": [],
   "source": [
    "from defs_robotica import *\n",
    "import numpy as np"
   ]
  },
  {
   "cell_type": "code",
   "execution_count": 46,
   "id": "7334964e-3b50-4d26-9d01-23bb86a32b36",
   "metadata": {},
   "outputs": [
    {
     "name": "stdout",
     "output_type": "stream",
     "text": [
      "[[-0.5485  0.7293  0.4091  0.6912]\n",
      " [ 0.7374  0.1911  0.6478  1.3425]\n",
      " [ 0.3943  0.657  -0.6426  0.2432]\n",
      " [ 0.      0.      0.      1.    ]]\n"
     ]
    }
   ],
   "source": [
    "#T_s(b1, a2, a3, d6, ang)\n",
    "b1 = 1\n",
    "a2 = 1\n",
    "a3 = 1\n",
    "d6 = .1\n",
    "ang= (1.1, 0.2, -1.3, 0.4, 1.5, 0.6,)\n",
    "\n",
    "T = T_s(b1, a2, a3, d6, ang)\n",
    "tt = T[5]\n",
    "print(tt)"
   ]
  },
  {
   "cell_type": "code",
   "execution_count": 47,
   "id": "ac669936-96d1-4369-befe-60b9c5df630a",
   "metadata": {},
   "outputs": [
    {
     "name": "stdout",
     "output_type": "stream",
     "text": [
      "Xc y Yc no estan definidos en el origen\n"
     ]
    },
    {
     "ename": "TypeError",
     "evalue": "'int' object is not subscriptable",
     "output_type": "error",
     "traceback": [
      "\u001b[1;31m---------------------------------------------------------------------------\u001b[0m",
      "\u001b[1;31mTypeError\u001b[0m                                 Traceback (most recent call last)",
      "\u001b[1;32m~\\AppData\\Local\\Temp/ipykernel_13216/1920593535.py\u001b[0m in \u001b[0;36m<module>\u001b[1;34m\u001b[0m\n\u001b[0;32m     12\u001b[0m \u001b[0mang456\u001b[0m \u001b[1;33m=\u001b[0m \u001b[1;33m[\u001b[0m\u001b[1;33m]\u001b[0m\u001b[1;33m\u001b[0m\u001b[1;33m\u001b[0m\u001b[0m\n\u001b[0;32m     13\u001b[0m \u001b[1;32mfor\u001b[0m \u001b[0mi\u001b[0m \u001b[1;32min\u001b[0m \u001b[0mrange\u001b[0m\u001b[1;33m(\u001b[0m\u001b[1;36m4\u001b[0m\u001b[1;33m)\u001b[0m\u001b[1;33m:\u001b[0m\u001b[1;33m\u001b[0m\u001b[1;33m\u001b[0m\u001b[0m\n\u001b[1;32m---> 14\u001b[1;33m     \u001b[0mt\u001b[0m \u001b[1;33m=\u001b[0m \u001b[0mangulo\u001b[0m\u001b[1;33m[\u001b[0m\u001b[0mi\u001b[0m\u001b[1;33m]\u001b[0m\u001b[1;33m\u001b[0m\u001b[1;33m\u001b[0m\u001b[0m\n\u001b[0m\u001b[0;32m     15\u001b[0m \u001b[1;33m\u001b[0m\u001b[0m\n\u001b[0;32m     16\u001b[0m     \u001b[0mA1\u001b[0m \u001b[1;33m=\u001b[0m  \u001b[0mDH\u001b[0m\u001b[1;33m(\u001b[0m\u001b[1;36m0\u001b[0m\u001b[1;33m,\u001b[0m \u001b[0mnp\u001b[0m\u001b[1;33m.\u001b[0m\u001b[0mpi\u001b[0m\u001b[1;33m/\u001b[0m\u001b[1;36m2\u001b[0m\u001b[1;33m,\u001b[0m  \u001b[0mb1\u001b[0m\u001b[1;33m,\u001b[0m \u001b[0mt\u001b[0m\u001b[1;33m[\u001b[0m\u001b[1;36m0\u001b[0m\u001b[1;33m]\u001b[0m\u001b[1;33m)\u001b[0m\u001b[1;33m\u001b[0m\u001b[1;33m\u001b[0m\u001b[0m\n",
      "\u001b[1;31mTypeError\u001b[0m: 'int' object is not subscriptable"
     ]
    }
   ],
   "source": [
    "tt= np.array([\n",
    "[0.2487,0.8039,-0.5403,-0.0540],\n",
    "[0.1597,0.5162,0.8415,0.0841],\n",
    "[0.9553,-0.2955,0.0000,0.0000],\n",
    "[0.0000,0.0000,0.0000,1.0000]\n",
    "])\n",
    "angulo = cin_inversa(b1, a2, a3, d6, tt)\n",
    "ang= (1.1, .2, -1.3   , .4, 1.5, .6)\n",
    "T = T_s(b1, a2, a3, d6, ang)\n",
    "\n",
    "\n",
    "ang456 = []\n",
    "for i in range(4):\n",
    "    t = angulo[i]\n",
    "   \n",
    "    A1 =  DH(0, np.pi/2,  b1, t[0])\n",
    "    A2 =  DH(a2,     0 ,  0, t[1])\n",
    "    A3 =  DH(a3,     0,   0, t[2])\n",
    "    T03 = A1@A2@A3\n",
    "    T03 = T03.transpose()\n",
    "    np.set_printoptions(suppress=True, precision=4)\n",
    "    ang456.append(angulos(T03@tt))\n",
    "   \n",
    "\n",
    "\n",
    "ang456 = np.round(ang456, 4)\n",
    "\n",
    "\n",
    "\n",
    "final =[list(angulo[0]) + list(ang456[0][0] ),\n",
    "list(angulo[0]) + list(ang456[0][1] ),\n",
    "list(angulo[1]) + list(ang456[1][0] ),\n",
    "list(angulo[1]) + list(ang456[1][1] ),\n",
    "\n",
    "list(angulo[2]) + list(ang456[2][0] ),\n",
    "list(angulo[2]) + list(ang456[2][1] ),\n",
    "list(angulo[3]) + list(ang456[3][1] ),\n",
    "list(angulo[3]) + list(ang456[3][0] )\n",
    "]\n",
    "\n",
    "[print(i) for i in final]\n",
    "\n"
   ]
  },
  {
   "cell_type": "code",
   "execution_count": 38,
   "id": "e3a03fb5-d97b-429f-aabe-8e7afa1ca809",
   "metadata": {},
   "outputs": [
    {
     "name": "stdout",
     "output_type": "stream",
     "text": [
      "[[-0.5485  0.7293  0.4091 -0.6094]\n",
      " [ 0.7374  0.1911  0.6478 -1.2129]\n",
      " [ 0.3942  0.657  -0.6426  0.2432]\n",
      " [ 0.      0.      0.      1.    ]]\n"
     ]
    }
   ],
   "source": [
    "\n",
    "T = T_s(b1, a2, a3, d6, final[0])\n",
    "tt = T[5]\n",
    "print(tt)"
   ]
  },
  {
   "cell_type": "code",
   "execution_count": 37,
   "id": "fba9cdcf-688d-4556-a814-31ed15f198b5",
   "metadata": {},
   "outputs": [
    {
     "name": "stdout",
     "output_type": "stream",
     "text": [
      "[[-0.5485  0.7293  0.4091  0.6912]\n",
      " [ 0.7374  0.1911  0.6478  1.3425]\n",
      " [ 0.3943  0.657  -0.6426  0.2432]\n",
      " [ 0.      0.      0.      1.    ]]\n"
     ]
    }
   ],
   "source": [
    "T = T_s(b1, a2, a3, d6, final[4])\n",
    "tt = T[5]\n",
    "print(tt)"
   ]
  },
  {
   "cell_type": "code",
   "execution_count": null,
   "id": "95cc36c9-c5d3-4709-a582-ff9e81c780ea",
   "metadata": {},
   "outputs": [],
   "source": []
  }
 ],
 "metadata": {
  "kernelspec": {
   "display_name": "Python 3 (ipykernel)",
   "language": "python",
   "name": "python3"
  },
  "language_info": {
   "codemirror_mode": {
    "name": "ipython",
    "version": 3
   },
   "file_extension": ".py",
   "mimetype": "text/x-python",
   "name": "python",
   "nbconvert_exporter": "python",
   "pygments_lexer": "ipython3",
   "version": "3.8.10"
  }
 },
 "nbformat": 4,
 "nbformat_minor": 5
}
