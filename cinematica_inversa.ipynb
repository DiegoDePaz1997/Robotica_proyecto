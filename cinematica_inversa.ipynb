{
 "cells": [
  {
   "cell_type": "markdown",
   "id": "c432ad4e-c825-425d-99ab-35e07dedf54f",
   "metadata": {},
   "source": [
    "# Cinematica inversa DH"
   ]
  },
  {
   "cell_type": "code",
   "execution_count": 1,
   "id": "8f8b7566-45c9-433e-9fc8-47f36e01fa84",
   "metadata": {},
   "outputs": [],
   "source": [
    "from defs_robotica import *\n",
    "import numpy as np"
   ]
  },
  {
   "cell_type": "code",
   "execution_count": 10,
   "id": "7fdcc0cf-71eb-4faf-a26f-38cffbaee0a8",
   "metadata": {},
   "outputs": [
    {
     "name": "stdout",
     "output_type": "stream",
     "text": [
      "[[ 1.  0.  0.  1.]\n",
      " [ 0.  0. -1.  0.]\n",
      " [ 0.  1.  0.  2.]\n",
      " [ 0.  0.  0.  1.]]\n"
     ]
    }
   ],
   "source": [
    "A1 =  DH(0, -np.pi/2,  10, 0)\n",
    "A2 =  DH(1,  np.pi/2 ,  2, 0)\n",
    "A3 =  DH(0,     0,   13, 0)\n",
    "T03 = A2\n",
    "np.set_printoptions(suppress=True, precision=4)\n",
    "print(T03)"
   ]
  },
  {
   "cell_type": "code",
   "execution_count": null,
   "id": "16d05386-bf51-479d-a877-0b0c5d2144e8",
   "metadata": {},
   "outputs": [],
   "source": []
  }
 ],
 "metadata": {
  "kernelspec": {
   "display_name": "Python 3 (ipykernel)",
   "language": "python",
   "name": "python3"
  },
  "language_info": {
   "codemirror_mode": {
    "name": "ipython",
    "version": 3
   },
   "file_extension": ".py",
   "mimetype": "text/x-python",
   "name": "python",
   "nbconvert_exporter": "python",
   "pygments_lexer": "ipython3",
   "version": "3.8.10"
  }
 },
 "nbformat": 4,
 "nbformat_minor": 5
}
